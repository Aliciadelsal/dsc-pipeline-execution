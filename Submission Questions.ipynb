{
 "cells": [
  {
   "attachments": {},
   "cell_type": "markdown",
   "id": "83d0e696",
   "metadata": {},
   "source": [
    "# Were you able to successfully create and execute the pipeline using the provided walkthrough?"
   ]
  },
  {
   "attachments": {},
   "cell_type": "markdown",
   "id": "1e975f83",
   "metadata": {},
   "source": [
    "###### Please provide your answer here &darr;"
   ]
  },
  {
   "attachments": {},
   "cell_type": "markdown",
   "id": "d6bbd3cd",
   "metadata": {},
   "source": [
    "I was lost a bit, and did not execute succesfully the pipeline"
   ]
  },
  {
   "attachments": {},
   "cell_type": "markdown",
   "id": "a586c181",
   "metadata": {},
   "source": []
  },
  {
   "attachments": {},
   "cell_type": "markdown",
   "id": "5cafcc06",
   "metadata": {},
   "source": [
    "# What (if any) blockers did you encounter?"
   ]
  },
  {
   "attachments": {},
   "cell_type": "markdown",
   "id": "c15e1b40",
   "metadata": {},
   "source": [
    "###### Please provide your answer here &darr;"
   ]
  },
  {
   "attachments": {},
   "cell_type": "markdown",
   "id": "b49f7fbb",
   "metadata": {},
   "source": [
    "Mostly time, I feel like one session is not enough, and should be at least one more. Although I'll try again on my own and with google"
   ]
  },
  {
   "attachments": {},
   "cell_type": "markdown",
   "id": "b974ab1a",
   "metadata": {},
   "source": []
  },
  {
   "attachments": {},
   "cell_type": "markdown",
   "id": "e0328248",
   "metadata": {},
   "source": [
    "# Do you have any suggestions for improving this material?"
   ]
  },
  {
   "attachments": {},
   "cell_type": "markdown",
   "id": "a702b9db",
   "metadata": {},
   "source": [
    "###### Please provide your answer here &darr;"
   ]
  },
  {
   "attachments": {},
   "cell_type": "markdown",
   "id": "32645543",
   "metadata": {},
   "source": []
  }
 ],
 "metadata": {
  "kernelspec": {
   "display_name": "Python 3 (ipykernel)",
   "language": "python",
   "name": "python3"
  },
  "language_info": {
   "codemirror_mode": {
    "name": "ipython",
    "version": 3
   },
   "file_extension": ".py",
   "mimetype": "text/x-python",
   "name": "python",
   "nbconvert_exporter": "python",
   "pygments_lexer": "ipython3",
   "version": "3.9.12"
  }
 },
 "nbformat": 4,
 "nbformat_minor": 5
}
